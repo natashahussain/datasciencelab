{
  "nbformat": 4,
  "nbformat_minor": 0,
  "metadata": {
    "colab": {
      "name": " Natasha-Decision trees",
      "provenance": [],
      "collapsed_sections": [],
      "include_colab_link": true
    },
    "kernelspec": {
      "name": "python3",
      "display_name": "Python 3"
    },
    "language_info": {
      "name": "python"
    }
  },
  "cells": [
    {
      "cell_type": "markdown",
      "metadata": {
        "id": "view-in-github",
        "colab_type": "text"
      },
      "source": [
        "<a href=\"https://colab.research.google.com/github/natashahussain/datasciencelab/blob/main/Natasha_Decision_trees.ipynb\" target=\"_parent\"><img src=\"https://colab.research.google.com/assets/colab-badge.svg\" alt=\"Open In Colab\"/></a>"
      ]
    },
    {
      "cell_type": "markdown",
      "source": [
        "**Aim:** Program to implement decision trees using any standard dataset available in the public domain and find the accuracy of the algorithm.\n",
        "\n",
        "**Short notes**\n",
        "\n",
        "Decision tree is a type of supervised learning algorithm (having a predefined target variable) that is mostly used in classification problems. It works for both categorical and continuous input and output variables. In this technique, we split the population or sample into two or more homogeneous sets (or sub-populations) based on most significant splitter / differentiator in input variables.\n",
        "\n",
        "**Used Python Packages**:\n",
        "\n",
        "sklearn :\n",
        "In python, sklearn is a machine learning package which include a lot of ML algorithms. Here, we are using some of its modules like train_test_split, DecisionTreeClassifier and accuracy_score.\n",
        "\n",
        "NumPy :\n",
        "It is a numeric python module which provides fast maths functions for calculations.\n",
        "It is used to read data in numpy arrays and for manipulation purpose.\n",
        "\n",
        "Pandas :\n",
        "Used to read and write different files.\n",
        "Data manipulation can be done easily with dataframes.\n",
        "\n",
        "**Important Terminology related to Tree based Algorithms**\n",
        "\n",
        "**Root Node**: It represents entire population or sample and this further gets divided into two or more homogeneous sets.\n",
        "\n",
        "**Splitting**: It is a process of dividing a node into two or more sub-nodes.\n",
        "\n",
        "**Decision Node**: When a sub-node splits into further sub-nodes, then it is called decision node.\n",
        "\n",
        "**Leaf/ Terminal Node**: Nodes do not split is called Leaf or Terminal node.\n",
        "\n",
        "**Pruning**: When we remove sub-nodes of a decision node, this process is called pruning. You can say opposite process of splitting.\n",
        "\n",
        "**Branch / Sub-Tree**: A sub section of entire tree is called branch or sub-tree.\n",
        "\n",
        "**Parent and Child Node**: A node, which is divided into sub-nodes is called parent node of sub-nodes where as sub-nodes are the child of parent node."
      ],
      "metadata": {
        "id": "_kMMzfqGx6Hr"
      }
    },
    {
      "cell_type": "code",
      "source": [
        "#import the modules"
      ],
      "metadata": {
        "id": "UpR_j728kqGq"
      },
      "execution_count": null,
      "outputs": []
    },
    {
      "cell_type": "code",
      "source": [
        "import pandas as pd\n",
        "import numpy as np\n",
        "irisdata=pd.read_csv(\"\")"
      ],
      "metadata": {
        "id": "i4hLo1LCnCJX"
      },
      "execution_count": null,
      "outputs": []
    },
    {
      "cell_type": "code",
      "source": [
        ""
      ],
      "metadata": {
        "id": "-XaVCpadm_q-"
      },
      "execution_count": null,
      "outputs": []
    },
    {
      "cell_type": "code",
      "source": [
        "#Display the number of rows & columns in dataframe\n"
      ],
      "metadata": {
        "id": "d1GxS-yOmXbd"
      },
      "execution_count": null,
      "outputs": []
    },
    {
      "cell_type": "code",
      "source": [
        ""
      ],
      "metadata": {
        "id": "yFQob5s32nuY"
      },
      "execution_count": null,
      "outputs": []
    },
    {
      "cell_type": "code",
      "source": [
        "#Display column names in dataframe\n"
      ],
      "metadata": {
        "id": "2OQ_mmafgw60"
      },
      "execution_count": null,
      "outputs": []
    },
    {
      "cell_type": "code",
      "source": [
        "#Perform Train Test Split\n",
        "\n"
      ],
      "metadata": {
        "id": "z4q7eAt_CA-_"
      },
      "execution_count": null,
      "outputs": []
    },
    {
      "cell_type": "code",
      "source": [
        "#Apply default criterion  Gini\n"
      ],
      "metadata": {
        "id": "I5yix8gTncEk"
      },
      "execution_count": null,
      "outputs": []
    },
    {
      "cell_type": "markdown",
      "source": [
        "# New Section"
      ],
      "metadata": {
        "id": "ygsa17Me04uy"
      }
    },
    {
      "cell_type": "code",
      "source": [
        "#Display Accuracy on train data & test data\n",
        "\n"
      ],
      "metadata": {
        "id": "JqwNiVNLkNgI"
      },
      "execution_count": null,
      "outputs": []
    },
    {
      "cell_type": "code",
      "source": [
        "#Change criterion to entropy\n",
        "\n"
      ],
      "metadata": {
        "id": "JUUc23oypat4"
      },
      "execution_count": null,
      "outputs": []
    },
    {
      "cell_type": "code",
      "source": [
        "#Display Accuracy on train data & test data\n",
        "\n"
      ],
      "metadata": {
        "id": "ec8V0-V2nFSx"
      },
      "execution_count": null,
      "outputs": []
    },
    {
      "cell_type": "code",
      "source": [
        "#Change criterion to entropy with min_samples_split to 50. Default value is 2\n",
        "\n",
        "\n",
        "\n",
        "#Display Accuracy on train data & test data\n",
        "\n"
      ],
      "metadata": {
        "id": "aMPSnE2LHZWe"
      },
      "execution_count": null,
      "outputs": []
    },
    {
      "cell_type": "code",
      "source": [
        "#visualise the decision tree\n",
        "#import the modules needed\n",
        "\n",
        "\n",
        "\n",
        "\n",
        "# Students can try using classifier, classifier_entropy and classifier_entropy1 as first parameter below.\n",
        "\n",
        "\n"
      ],
      "metadata": {
        "id": "hnmJoObcuB7h"
      },
      "execution_count": null,
      "outputs": []
    }
  ]
}